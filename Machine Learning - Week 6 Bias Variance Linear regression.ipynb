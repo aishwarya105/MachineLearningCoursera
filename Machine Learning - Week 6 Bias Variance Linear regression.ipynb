{
 "cells": [
  {
   "cell_type": "code",
   "execution_count": 3,
   "metadata": {},
   "outputs": [],
   "source": [
    "%matplotlib inline \n",
    "import numpy as np\n",
    "import matplotlib.pyplot as plt\n",
    "import seaborn; seaborn.set_style(\"whitegrid\")\n",
    "from scipy.io import loadmat"
   ]
  },
  {
   "cell_type": "markdown",
   "metadata": {},
   "source": [
    "# Part1 : Loading and visualizing the data"
   ]
  },
  {
   "cell_type": "code",
   "execution_count": 5,
   "metadata": {},
   "outputs": [
    {
     "data": {
      "text/plain": [
       "dict_keys(['__header__', '__version__', '__globals__', 'X', 'y', 'Xtest', 'ytest', 'Xval', 'yval'])"
      ]
     },
     "execution_count": 5,
     "metadata": {},
     "output_type": "execute_result"
    }
   ],
   "source": [
    "#Part 1 : Loading and visualizing the data\n",
    "data = loadmat('ex5data1.mat')\n",
    "data.keys()"
   ]
  },
  {
   "cell_type": "code",
   "execution_count": 266,
   "metadata": {},
   "outputs": [
    {
     "name": "stdout",
     "output_type": "stream",
     "text": [
      "(12, 1)\n",
      "(12, 1)\n",
      "(21, 1)\n",
      "(21, 1)\n"
     ]
    }
   ],
   "source": [
    "X,y,Xtest,ytest,Xval,yval = data['X'], data['y'], data['Xtest'], data['ytest'], data['Xval'], data['yval']\n",
    "print(X.shape)\n",
    "print(y.shape)\n",
    "print(Xval.shape)\n",
    "print(Xtest.shape)"
   ]
  },
  {
   "cell_type": "code",
   "execution_count": 267,
   "metadata": {},
   "outputs": [],
   "source": [
    "y = y.reshape(y.shape[0])\n",
    "ytest = ytest.reshape(ytest.shape[0])\n",
    "yval = yval.reshape(yval.shape[0])"
   ]
  },
  {
   "cell_type": "code",
   "execution_count": 268,
   "metadata": {},
   "outputs": [
    {
     "name": "stdout",
     "output_type": "stream",
     "text": [
      "(12, 1)\n",
      "(12,)\n",
      "(21, 1)\n",
      "(21, 1)\n"
     ]
    }
   ],
   "source": [
    "print(X.shape)\n",
    "print(y.shape)\n",
    "print(Xval.shape)\n",
    "print(Xtest.shape)"
   ]
  },
  {
   "cell_type": "code",
   "execution_count": 349,
   "metadata": {},
   "outputs": [
    {
     "data": {
      "text/plain": [
       "[<matplotlib.lines.Line2D at 0x1a1c10d080>]"
      ]
     },
     "execution_count": 349,
     "metadata": {},
     "output_type": "execute_result"
    },
    {
     "data": {
      "image/png": "[encoded data removed]",
      "text/plain": [
       "<Figure size 432x288 with 1 Axes>"
      ]
     },
     "metadata": {},
     "output_type": "display_data"
    }
   ],
   "source": [
    "plt.scatter(X,y)\n",
    "plt.xlabel('Change in water level (x)');\n",
    "plt.ylabel('Water flowing out of the dam (y)');\n",
    "plt.plot(X,np.dot(X_bias,theta_opt))\n"
   ]
  },
  {
   "cell_type": "code",
   "execution_count": 270,
   "metadata": {},
   "outputs": [
    {
     "data": {
      "text/plain": [
       "12"
      ]
     },
     "execution_count": 270,
     "metadata": {},
     "output_type": "execute_result"
    }
   ],
   "source": [
    "m = len(X)\n",
    "m"
   ]
  },
  {
   "cell_type": "markdown",
   "metadata": {},
   "source": [
    "# Part 2+3 : Regularized linear regression cost and gradient"
   ]
  },
  {
   "cell_type": "code",
   "execution_count": 271,
   "metadata": {
    "scrolled": true
   },
   "outputs": [
    {
     "name": "stdout",
     "output_type": "stream",
     "text": [
      "(2, 1)\n",
      "(12, 2)\n",
      "(12,)\n"
     ]
    },
    {
     "data": {
      "text/plain": [
       "(2,)"
      ]
     },
     "execution_count": 271,
     "metadata": {},
     "output_type": "execute_result"
    }
   ],
   "source": [
    "print(theta.shape)\n",
    "X_bias = np.hstack((np.ones((m,1)),X))\n",
    "print(X_bias.shape)\n",
    "print(y.shape)\n",
    "theta = np.ones((X_bias.shape[1]))\n",
    "theta.shape"
   ]
  },
  {
   "cell_type": "code",
   "execution_count": 453,
   "metadata": {},
   "outputs": [],
   "source": [
    "from scipy.special import expit\n",
    "\n",
    "\n",
    "def linregcostfunc(init_theta,X,y,lam):\n",
    "    \n",
    "    #compute hypothesos\n",
    "    hthetax = np.dot(X,init_theta)\n",
    "    cost = np.sum((hthetax-y)**2)/(2*m)\n",
    "    J_reg = cost + ((lam/(2*m))*np.sum(init_theta**2))\n",
    "    \n",
    "    grad_nonbias = np.sum(np.dot((hthetax-y),X[:,1:]),axis=0)/m + ((lam/m)*init_theta[1:])\n",
    "    #print(type(grad_nonbias))\n",
    "    grad_bias = [np.sum(np.dot((hthetax-y),X[:,0]),axis=0)/m]\n",
    "    #return J_reg, grad_nonbias\n",
    "    gradients = np.hstack((grad_bias,grad_nonbias))\n",
    "    return (J_reg,gradients)\n",
    "        "
   ]
  },
  {
   "cell_type": "code",
   "execution_count": 454,
   "metadata": {},
   "outputs": [
    {
     "name": "stdout",
     "output_type": "stream",
     "text": [
      "(2,)\n",
      "(2,)\n",
      "[-15.30301567 598.25074417]\n"
     ]
    }
   ],
   "source": [
    "print(theta.shape) #(2,)\n",
    "print(np.zeros((X_bias.shape[1])).shape) #(2,))\n",
    "cost, gradients = linregcostfunc(theta,X_bias,y,1)\n",
    "print(gradients)"
   ]
  },
  {
   "cell_type": "markdown",
   "metadata": {},
   "source": [
    "# Part 4 : Train Linear Regression"
   ]
  },
  {
   "cell_type": "code",
   "execution_count": 445,
   "metadata": {},
   "outputs": [],
   "source": [
    "from scipy.optimize import minimize\n",
    "def trainLinearReg(X,y,lam):\n",
    "    initial_theta = np.zeros((X.shape[1]))\n",
    "    res = minimize(linregcostfunc,initial_theta,args=(X,y,lam),jac=True,options={'maxiter':400,'disp':False})\n",
    "    return res.x\n",
    "    "
   ]
  },
  {
   "cell_type": "code",
   "execution_count": 455,
   "metadata": {},
   "outputs": [
    {
     "data": {
      "text/plain": [
       "array([13.08771416,  0.367742  ])"
      ]
     },
     "execution_count": 455,
     "metadata": {},
     "output_type": "execute_result"
    }
   ],
   "source": [
    "theta_opt = trainLinearReg(X_bias,y,0.0)\n",
    "theta_opt"
   ]
  },
  {
   "cell_type": "code",
   "execution_count": 456,
   "metadata": {},
   "outputs": [
    {
     "data": {
      "text/plain": [
       "[<matplotlib.lines.Line2D at 0x1a1c305780>]"
      ]
     },
     "execution_count": 456,
     "metadata": {},
     "output_type": "execute_result"
    },
    {
     "data": {
      "image/png": "[encoded data removed]",
      "text/plain": [
       "<Figure size 432x288 with 1 Axes>"
      ]
     },
     "metadata": {},
     "output_type": "display_data"
    }
   ],
   "source": [
    "plt.scatter(X,y)\n",
    "plt.xlabel('Change in water level (x)');\n",
    "plt.ylabel('Water flowing out of the dam (y)');\n",
    "plt.plot(X,np.dot(X_bias,theta_opt),c='r')"
   ]
  },
  {
   "cell_type": "markdown",
   "metadata": {},
   "source": [
    "# Part 5 : Learning curve for linear regression"
   ]
  },
  {
   "cell_type": "code",
   "execution_count": 384,
   "metadata": {},
   "outputs": [],
   "source": [
    "def learningcurve(X,y,Xval,yval,lam):\n",
    "    #return the train error vector and the cross-val error vector\n",
    "    #error_train(i) will have the train error for first i examples \n",
    "    #error_val(i) will have the training error for the ith example\n",
    "    \n",
    "    #compute the errors for dataset 1 to m\n",
    "    \n",
    "    m_train = X.shape[0] #number of training examples\n",
    "    mval = Xval.shape[0]\n",
    "    error_train = np.zeros((m,1))\n",
    "    error_val = np.zeros((m,1))\n",
    "    \n",
    "    for i in range(1,m_train+1):\n",
    "        opt_theta = trainLinearReg(X[0:i],y[0:i],lam)\n",
    "        error_train[i-1] = (np.sum((np.dot(X[0:i],opt_theta)-y[0:i])**2))/(2*i)\n",
    "        error_val[i-1] = (np.sum((np.dot(Xval,opt_theta)-yval)**2))/(2.0*mval)\n",
    "    return error_train,error_val\n",
    "        \n",
    "    \n",
    "    "
   ]
  },
  {
   "cell_type": "code",
   "execution_count": 385,
   "metadata": {},
   "outputs": [
    {
     "data": {
      "image/png": "[encoded data removed]",
      "text/plain": [
       "<Figure size 432x288 with 1 Axes>"
      ]
     },
     "metadata": {},
     "output_type": "display_data"
    }
   ],
   "source": [
    "mval = Xval.shape[0]\n",
    "Xval_bias = np.hstack((np.ones((mval,1)),Xval))\n",
    "\n",
    "error_train, error_val = learningcurve(X_bias,y,Xval_bias,yval,lam)\n",
    "plt.plot(range(len(X)), error_train, range(len(X)), error_val);\n",
    "plt.title('Learning curve for linear regression')\n",
    "plt.legend(['Train', 'Cross Validation'])\n",
    "plt.xlabel('Number of training examples')\n",
    "plt.ylabel('Error')\n",
    "plt.show()\n"
   ]
  },
  {
   "cell_type": "markdown",
   "metadata": {},
   "source": [
    "# Part 6 : Feature mapping for polynomial regression"
   ]
  },
  {
   "cell_type": "code",
   "execution_count": 520,
   "metadata": {},
   "outputs": [
    {
     "name": "stdout",
     "output_type": "stream",
     "text": [
      "[-15.93675813 -29.15297922  36.18954863  37.49218733 -48.05882945\n",
      "  -8.94145794  15.30779289 -34.70626581   1.38915437 -44.38375985\n",
      "   7.01350208  22.76274892]\n"
     ]
    }
   ],
   "source": [
    "from sklearn.preprocessing import PolynomialFeatures\n",
    "# def polyfeatures(X,p):\n",
    "#     poly = PolynomialFeatures(degree)\n",
    "#     X_poly = poly.fit_transform(X)\n",
    "#     retXurn X_poly\n",
    "def polyfeatures(X,p):\n",
    "\tX_poly = np.zeros((len(X),p))\n",
    "\tX = X.flatten()\n",
    "\tfor i in range(1,p+1):\n",
    "\t\tX_poly[:,i-1] = X**i\n",
    "\treturn X_poly"
   ]
  },
  {
   "cell_type": "code",
   "execution_count": 484,
   "metadata": {},
   "outputs": [],
   "source": [
    "from sklearn import preprocessing\n",
    "def featurenormalize(X):\n",
    "    mu = np.mean(X, axis =0)\n",
    "    sigma = np.std(X, axis = 0)\n",
    "    normalized_X = preprocessing.scale(X)\n",
    "    return mu, sigma, normalized_X"
   ]
  },
  {
   "cell_type": "code",
   "execution_count": 489,
   "metadata": {},
   "outputs": [
    {
     "name": "stderr",
     "output_type": "stream",
     "text": [
      "/anaconda3/lib/python3.7/site-packages/sklearn/preprocessing/data.py:164: UserWarning: Numerical issues were encountered when centering the data and might not be solved. Dataset may contain too large values. You may need to prescale your features.\n",
      "  warnings.warn(\"Numerical issues were encountered \"\n"
     ]
    }
   ],
   "source": [
    "X_poly = polyfeatures(X,8)\n",
    "mu,sigma, X_poly = featurenormalize(X_poly)\n",
    "X_poly = np.hstack((np.ones((X_poly.shape[0],1)),X_poly))\n",
    "\n",
    "X_poly_test = polyfeatures(Xtest,8)\n",
    "X_poly_test = np.divide(X_poly_test-mu,sigma)\n",
    "X_poly_test = np.hstack((np.ones((X_poly_test.shape[0],1)),X_poly_test))\n",
    "\n",
    "X_poly_val = polyfeatures(Xval,8)\n",
    "X_poly_val = np.divide(X_poly_val-mu, sigma)\n",
    "X_poly_val = np.hstack((np.ones((X_poly_val.shape[0],1)),X_poly_val))"
   ]
  },
  {
   "cell_type": "code",
   "execution_count": 490,
   "metadata": {},
   "outputs": [
    {
     "data": {
      "text/plain": [
       "(12, 9)"
      ]
     },
     "execution_count": 490,
     "metadata": {},
     "output_type": "execute_result"
    }
   ],
   "source": [
    "X_poly.shape"
   ]
  },
  {
   "cell_type": "code",
   "execution_count": 491,
   "metadata": {},
   "outputs": [
    {
     "data": {
      "text/plain": [
       "(21, 9)"
      ]
     },
     "execution_count": 491,
     "metadata": {},
     "output_type": "execute_result"
    }
   ],
   "source": [
    "X_poly_test.shape"
   ]
  },
  {
   "cell_type": "code",
   "execution_count": 492,
   "metadata": {},
   "outputs": [
    {
     "data": {
      "text/plain": [
       "(21, 9)"
      ]
     },
     "execution_count": 492,
     "metadata": {},
     "output_type": "execute_result"
    }
   ],
   "source": [
    "X_poly_val.shape"
   ]
  },
  {
   "cell_type": "markdown",
   "metadata": {},
   "source": [
    "# Part 7 : Learning curve for polynomial regression"
   ]
  },
  {
   "cell_type": "code",
   "execution_count": 493,
   "metadata": {},
   "outputs": [],
   "source": [
    "#Now we will try to run polynomial regression with multiple values of lambda\n",
    "theta = trainLinearReg(X_poly,y,0)"
   ]
  },
  {
   "cell_type": "code",
   "execution_count": 500,
   "metadata": {},
   "outputs": [],
   "source": [
    "def plotFit(min_x, max_x,mu,sigma,theta,p):\n",
    "    x = np.arange(min_x-15,max_x+25,0.05).reshape(-1,1) #changes x into a row vector\n",
    "    x_poly = polyfeatures(x,p)\n",
    "    X_poly = np.divide(x_poly-mu, sigma)\n",
    "    X_poly = np.hstack((np.ones((X_poly.shape[0],1)),X_poly))\n",
    "    plt.plot(x,np.dot(X_poly,theta),linewidth=2)"
   ]
  },
  {
   "cell_type": "code",
   "execution_count": 501,
   "metadata": {},
   "outputs": [
    {
     "data": {
      "image/png": "[encoded data removed]",
      "text/plain": [
       "<Figure size 432x288 with 1 Axes>"
      ]
     },
     "metadata": {},
     "output_type": "display_data"
    }
   ],
   "source": [
    "reg_param = 1.0\n",
    "est_theta = trainLinearReg(X_poly,y,reg_param)\n",
    "plt.plot(X, y, 'rx', markersize=10, linewidth=1.5)\n",
    "plotFit(np.min(X), np.max(X), mu, sigma, est_theta, degree)\n",
    "plt.xlabel('Change in water level (x)')\n",
    "plt.ylabel('Water flowing out of the dam (y)')\n",
    "plt.show()"
   ]
  },
  {
   "cell_type": "code",
   "execution_count": 502,
   "metadata": {},
   "outputs": [
    {
     "data": {
      "image/png": "[encoded data removed]",
      "text/plain": [
       "<Figure size 432x288 with 1 Axes>"
      ]
     },
     "metadata": {},
     "output_type": "display_data"
    }
   ],
   "source": [
    "error_train, error_val = learningcurve(X_poly,y,X_poly_val,yval,reg_param)\n",
    "plt.plot(range(len(X_poly)), error_train, range(len(X_poly)), error_val);\n",
    "plt.title('Learning curve for linear regression')\n",
    "plt.legend(['Train', 'Cross Validation'])\n",
    "plt.xlabel('Number of training examples')\n",
    "plt.ylabel('Error')\n",
    "plt.show()\n"
   ]
  },
  {
   "cell_type": "markdown",
   "metadata": {},
   "source": [
    "# Part 8 : Validation Curve"
   ]
  },
  {
   "cell_type": "code",
   "execution_count": 514,
   "metadata": {},
   "outputs": [],
   "source": [
    "def validationCurve(X, y, Xval, yval):\n",
    "    #We will test different values of lambda\n",
    "    lambda_vec = np.array([0,0.001,0.003,0.01,0.03,0.1,0.3,1,3,10]).reshape((-1,1))\n",
    "    error_train = np.zeros((lambda_vec.shape[0],1))\n",
    "    error_val = np.zeros((lambda_vec.shape[0],1))\n",
    "    m = len(X)\n",
    "    mval = len(Xval)\n",
    "    for i in range(len(lambda_vec)):\n",
    "        reg_param = lambda_vec[i]\n",
    "        est_theta = trainLinearReg(X,y,reg_param)\n",
    "        error_train[i] = np.sum((np.dot(X,est_theta)-y)**2)/(2*m)\n",
    "        error_val[i] = np.sum((np.dot(Xval,est_theta)-yval)**2)/(2*mval)\n",
    "    return lambda_vec,error_train, error_val"
   ]
  },
  {
   "cell_type": "code",
   "execution_count": 515,
   "metadata": {},
   "outputs": [
    {
     "data": {
      "image/png": "[encoded data removed]",
      "text/plain": [
       "<Figure size 432x288 with 1 Axes>"
      ]
     },
     "metadata": {},
     "output_type": "display_data"
    }
   ],
   "source": [
    "lambda_vec, error_train, error_val = validationCurve(X_bias,y,Xval_bias,yval)\n",
    "plt.plot(lambda_vec, error_train, lambda_vec, error_val);\n",
    "plt.title('Selecting \\lambda using a cross validation set')\n",
    "plt.legend(['Train', 'Cross Validation'])\n",
    "plt.xlabel('lambda')\n",
    "plt.ylabel('Error')\n",
    "plt.show()"
   ]
  }
 ],
 "metadata": {
  "kernelspec": {
   "display_name": "Python 3",
   "language": "python",
   "name": "python3"
  },
  "language_info": {
   "codemirror_mode": {
    "name": "ipython",
    "version": 3
   },
   "file_extension": ".py",
   "mimetype": "text/x-python",
   "name": "python",
   "nbconvert_exporter": "python",
   "pygments_lexer": "ipython3",
   "version": "3.7.0"
  }
 },
 "nbformat": 4,
 "nbformat_minor": 2
}
