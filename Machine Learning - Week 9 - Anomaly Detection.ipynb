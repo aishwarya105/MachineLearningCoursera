{
 "cells": [
  {
   "cell_type": "code",
   "execution_count": 2,
   "metadata": {},
   "outputs": [],
   "source": [
    "%matplotlib inline\n",
    "import numpy as np\n",
    "import matplotlib.pyplot as plt\n",
    "import seaborn; seaborn.set_style(\"whitegrid\")\n",
    "from scipy.io import loadmat"
   ]
  },
  {
   "cell_type": "markdown",
   "metadata": {},
   "source": [
    "# Part 1.1) Loading and visualizing the data"
   ]
  },
  {
   "cell_type": "code",
   "execution_count": 3,
   "metadata": {},
   "outputs": [
    {
     "data": {
      "text/plain": [
       "dict_keys(['__header__', '__version__', '__globals__', 'X', 'Xval', 'yval'])"
      ]
     },
     "execution_count": 3,
     "metadata": {},
     "output_type": "execute_result"
    }
   ],
   "source": [
    "# %  Our example case consists of 2 network server statistics across\n",
    "# %  several machines: the latency and throughput of each machine.\n",
    "# %  This exercise will help us find possibly faulty (or very fast) machines.\n",
    "\n",
    "data_11 = loadmat('ex8data1.mat')\n",
    "data_11.keys()"
   ]
  },
  {
   "cell_type": "code",
   "execution_count": 4,
   "metadata": {},
   "outputs": [],
   "source": [
    "X_11, Xval_11, yval_11 = data_11['X'], data_11['Xval'], data_11['yval']"
   ]
  },
  {
   "cell_type": "code",
   "execution_count": 5,
   "metadata": {},
   "outputs": [
    {
     "data": {
      "text/plain": [
       "(307, 2)"
      ]
     },
     "execution_count": 5,
     "metadata": {},
     "output_type": "execute_result"
    }
   ],
   "source": [
    "X_11.shape"
   ]
  },
  {
   "cell_type": "code",
   "execution_count": 6,
   "metadata": {},
   "outputs": [
    {
     "data": {
      "text/plain": [
       "(307, 2)"
      ]
     },
     "execution_count": 6,
     "metadata": {},
     "output_type": "execute_result"
    }
   ],
   "source": [
    "Xval_11.shape"
   ]
  },
  {
   "cell_type": "code",
   "execution_count": 7,
   "metadata": {},
   "outputs": [
    {
     "data": {
      "text/plain": [
       "(307, 1)"
      ]
     },
     "execution_count": 7,
     "metadata": {},
     "output_type": "execute_result"
    }
   ],
   "source": [
    "yval_11.shape"
   ]
  },
  {
   "cell_type": "code",
   "execution_count": 8,
   "metadata": {},
   "outputs": [
    {
     "data": {
      "image/png": "[encoded data removed]",
      "text/plain": [
       "<Figure size 432x288 with 1 Axes>"
      ]
     },
     "metadata": {
      "needs_background": "light"
     },
     "output_type": "display_data"
    }
   ],
   "source": [
    "plt.scatter(X_11[:,0], X_11[:,1])\n",
    "plt.xlabel(\"Latency (ms)\")\n",
    "plt.ylabel(\"Throughput (mb/s)\")\n",
    "plt.show()"
   ]
  },
  {
   "cell_type": "markdown",
   "metadata": {},
   "source": [
    "# Part 1.2) Estimate the dataset statistics"
   ]
  },
  {
   "cell_type": "code",
   "execution_count": 9,
   "metadata": {},
   "outputs": [],
   "source": [
    "#For this exercise we assume a Gaussian distribution for the dataset\n",
    "\n",
    "# First estimate parameters, then compute the probability of each point and then visualize the overall distribution,\n",
    "## and where each of the points falls in that distribution\n",
    "def estimateGaussian(X):\n",
    "    m,n = X.shape[0], X.shape[1]\n",
    "    mu = np.zeros((n,1))\n",
    "    sigma2 = np.zeros((n,1))\n",
    "    \n",
    "    mu = np.mean(X, axis = 0)\n",
    "    sigma2 = np.var(X, axis = 0)\n",
    "    return mu, sigma2"
   ]
  },
  {
   "cell_type": "code",
   "execution_count": 10,
   "metadata": {},
   "outputs": [],
   "source": [
    "mu_11, sigma2_11 = estimateGaussian(X_11)\n"
   ]
  },
  {
   "cell_type": "code",
   "execution_count": 11,
   "metadata": {},
   "outputs": [
    {
     "data": {
      "text/plain": [
       "(array([14.11222578, 14.99771051]), array([1.83263141, 1.70974533]))"
      ]
     },
     "execution_count": 11,
     "metadata": {},
     "output_type": "execute_result"
    }
   ],
   "source": [
    "mu_11, sigma2_11"
   ]
  },
  {
   "cell_type": "code",
   "execution_count": 12,
   "metadata": {},
   "outputs": [],
   "source": [
    "def multivariateGaussian(X,mu,sigma2):\n",
    "    '''Computes the probability density function of the examples X under the \n",
    "       multivariate gaussian distribution with parameters mu and Sigma2. If Sigma2 is a matrix, it is\n",
    "       treated as the covariance matrix. If Sigma2 is a vector, it is treated\n",
    "       as the \\sigma^2 values of the variances in each dimension (a diagonal covariance matrix)'''\n",
    "    \n",
    "    k = len(mu)\n",
    "    sigma2 = np.diag(sigma2)\n",
    "    X = X-mu.T\n",
    "    p = 1/((2*np.pi)**(k/2)*(np.linalg.det(sigma2)**0.5))* np.exp(-0.5* np.sum(X @ np.linalg.pinv(sigma2) * X,axis=1))\n",
    "    return p"
   ]
  },
  {
   "cell_type": "code",
   "execution_count": 13,
   "metadata": {},
   "outputs": [],
   "source": [
    "p = multivariateGaussian(X_11,mu_11,sigma2_11)"
   ]
  },
  {
   "cell_type": "code",
   "execution_count": 14,
   "metadata": {},
   "outputs": [
    {
     "name": "stdout",
     "output_type": "stream",
     "text": [
      "[1.83263141 1.70974533]\n",
      "[[1.83263141 0.        ]\n",
      " [0.         1.70974533]]\n"
     ]
    }
   ],
   "source": [
    "print(sigma2_11)\n",
    "print(np.diag(sigma2_11))"
   ]
  },
  {
   "cell_type": "code",
   "execution_count": 15,
   "metadata": {},
   "outputs": [
    {
     "data": {
      "text/plain": [
       "(307,)"
      ]
     },
     "execution_count": 15,
     "metadata": {},
     "output_type": "execute_result"
    }
   ],
   "source": [
    "p.shape"
   ]
  },
  {
   "cell_type": "code",
   "execution_count": 16,
   "metadata": {},
   "outputs": [],
   "source": [
    "def visualizeFit(X,mu,sigma2):\n",
    "    xx,yy = np.meshgrid(np.arange(0,35,0.5), np.arange(0,35,0.5))\n",
    "    Z = multivariateGaussian(np.hstack((xx.flatten()[:,np.newaxis],yy.flatten()[:,np.newaxis])),mu,sigma2) #find probability density of the meshgrid from already fitted params\n",
    "    contour_level = 10**np.array([np.arange(-20,0,3,dtype=np.float)]).T\n",
    "    plt.scatter(X[:,0], X[:,1])\n",
    "    plt.contour(xx,yy,Z[:,np.newaxis].reshape(xx.shape),contour_level)\n",
    "    plt.xlim(0,35)\n",
    "    plt.ylim(0,35)\n",
    "    plt.xlabel(\"Latency (ms)\")\n",
    "    plt.ylabel(\"Throughput (mb/s)\")"
   ]
  },
  {
   "cell_type": "code",
   "execution_count": 17,
   "metadata": {},
   "outputs": [
    {
     "data": {
      "image/png": "[encoded data removed]",
      "text/plain": [
       "<Figure size 432x288 with 1 Axes>"
      ]
     },
     "metadata": {
      "needs_background": "light"
     },
     "output_type": "display_data"
    }
   ],
   "source": [
    "visualizeFit(X_11,mu_11,sigma2_11)\n"
   ]
  },
  {
   "cell_type": "code",
   "execution_count": 18,
   "metadata": {},
   "outputs": [
    {
     "data": {
      "text/plain": [
       "array([[-20.],\n",
       "       [-17.],\n",
       "       [-14.],\n",
       "       [-11.],\n",
       "       [ -8.],\n",
       "       [ -5.],\n",
       "       [ -2.]])"
      ]
     },
     "execution_count": 18,
     "metadata": {},
     "output_type": "execute_result"
    }
   ],
   "source": [
    "np.array([np.arange(-20,0,3,dtype=np.float)]).T"
   ]
  },
  {
   "cell_type": "markdown",
   "metadata": {},
   "source": [
    "# Part 1.3) Find outliers\n",
    "### Now you will find a good epsilon threshold using a cross-validation set probabilities given the estimated Gaussian distribution"
   ]
  },
  {
   "cell_type": "code",
   "execution_count": 19,
   "metadata": {},
   "outputs": [
    {
     "data": {
      "text/plain": [
       "(1.1812091168967527e-23, 0.08986095083415366)"
      ]
     },
     "execution_count": 19,
     "metadata": {},
     "output_type": "execute_result"
    }
   ],
   "source": [
    "p = multivariateGaussian(X_11,mu_11,sigma2_11) #finding probability of points in X dataset\n",
    "min(p),max(p)"
   ]
  },
  {
   "cell_type": "code",
   "execution_count": 20,
   "metadata": {},
   "outputs": [],
   "source": [
    "pval = multivariateGaussian(Xval_11,mu_11,sigma2_11) #finding probability of points in Xval dataset"
   ]
  },
  {
   "cell_type": "code",
   "execution_count": 21,
   "metadata": {},
   "outputs": [],
   "source": [
    "def selectThreshold(yval, pval):\n",
    "    bestEpsilon = 0.0\n",
    "    bestF1 = 0.0\n",
    "    F1 = 0.0\n",
    "    \n",
    "    stepsize = (max(pval) - min(pval))/1000\n",
    "    epi_range = np.arange(min(pval),max(pval),stepsize)\n",
    "    for epi in epi_range:\n",
    "        predictions = (pval<epi)[:,np.newaxis] #boolean mask. True for anomalous\n",
    "        tp = np.sum(predictions[yval==1]==1)\n",
    "        fp = np.sum(predictions[yval==0]==1)\n",
    "        fn = np.sum(predictions[yval==1]==0)\n",
    "        recall = tp/(tp + fn)\n",
    "        precision = tp/(tp + fp)\n",
    "        F1 =(2 * precision * recall)/(precision + recall)\n",
    "        if F1 > bestF1:\n",
    "            bestF1 = F1\n",
    "            bestEpsilon = epi\n",
    "    return bestF1, bestEpsilon\n",
    "        \n",
    "    "
   ]
  },
  {
   "cell_type": "code",
   "execution_count": 22,
   "metadata": {},
   "outputs": [
    {
     "name": "stdout",
     "output_type": "stream",
     "text": [
      "Best epsilon found using cross-validation: 8.990852779269496e-05\n",
      "Best F1 on Cross Validation Set: 0.8750000000000001\n"
     ]
    },
    {
     "name": "stderr",
     "output_type": "stream",
     "text": [
      "/anaconda3/lib/python3.7/site-packages/ipykernel_launcher.py:14: RuntimeWarning: invalid value encountered in long_scalars\n",
      "  \n"
     ]
    }
   ],
   "source": [
    "F1, epsilon = selectThreshold(yval_11,pval)\n",
    "print(\"Best epsilon found using cross-validation:\",epsilon)\n",
    "print(\"Best F1 on Cross Validation Set:\",F1)"
   ]
  },
  {
   "cell_type": "code",
   "execution_count": 26,
   "metadata": {},
   "outputs": [
    {
     "data": {
      "image/png": "[encoded data removed]",
      "text/plain": [
       "<Figure size 432x288 with 1 Axes>"
      ]
     },
     "metadata": {
      "needs_background": "light"
     },
     "output_type": "display_data"
    }
   ],
   "source": [
    "\n",
    "#Plot the data\n",
    "plt.scatter(X_11[:,0],X_11[:,1],marker = 'x')\n",
    "xx, yy = np.meshgrid(np.arange(0,35,0.5),np.arange(0,35,0.5))\n",
    "Z = multivariateGaussian(np.hstack((xx.flatten()[:,np.newaxis],yy.flatten()[:,np.newaxis])),mu_11,sigma2_11) #height values over which contour is drawn\n",
    "Z = Z[:,np.newaxis].reshape(xx.shape)\n",
    "levels = 10**np.array([np.arange(-20,0,3,dtype=np.float)]).T\n",
    "plt.contour(xx,yy,Z,levels)\n",
    "\n",
    "#Let's circle the outliers\n",
    "outliers = np.nonzero(p<epsilon)[0] #find indices of data points where the value is less than epsilon\n",
    "plt.scatter(X_11[outliers,0],X_11[outliers,1],marker='o',edgecolor='r',facecolor = \"none\")\n",
    "plt.xlabel(\"Latency (ms)\")\n",
    "plt.ylabel(\"Throughput (mb/s)\")\n",
    "plt.show()\n"
   ]
  },
  {
   "cell_type": "markdown",
   "metadata": {},
   "source": [
    "# Part 1.4) Multidimensional Outliers"
   ]
  },
  {
   "cell_type": "code",
   "execution_count": 27,
   "metadata": {},
   "outputs": [
    {
     "data": {
      "text/plain": [
       "dict_keys(['__header__', '__version__', '__globals__', 'X', 'Xval', 'yval'])"
      ]
     },
     "execution_count": 27,
     "metadata": {},
     "output_type": "execute_result"
    }
   ],
   "source": [
    "data_14 = loadmat('ex8data2.mat')\n",
    "data_14.keys()"
   ]
  },
  {
   "cell_type": "code",
   "execution_count": 28,
   "metadata": {},
   "outputs": [],
   "source": [
    "X_14, Xval_14, yval_14 = data_14['X'], data_14['Xval'], data_14['yval']"
   ]
  },
  {
   "cell_type": "code",
   "execution_count": 29,
   "metadata": {},
   "outputs": [
    {
     "data": {
      "text/plain": [
       "((1000, 11), (100, 11), (100, 1))"
      ]
     },
     "execution_count": 29,
     "metadata": {},
     "output_type": "execute_result"
    }
   ],
   "source": [
    "X_14.shape,Xval_14.shape,yval_14.shape"
   ]
  },
  {
   "cell_type": "code",
   "execution_count": 30,
   "metadata": {},
   "outputs": [
    {
     "name": "stdout",
     "output_type": "stream",
     "text": [
      "Best epsilon found using cross-validation: 1.377228890761358e-18\n",
      "Best F1 on Cross Validation Set: 0.6153846153846154\n",
      "Outliers found :  117\n"
     ]
    },
    {
     "name": "stderr",
     "output_type": "stream",
     "text": [
      "/anaconda3/lib/python3.7/site-packages/ipykernel_launcher.py:14: RuntimeWarning: invalid value encountered in long_scalars\n",
      "  \n"
     ]
    }
   ],
   "source": [
    "#Fit mu and variance on the training data set\n",
    "mu_14, sigma2_14 = estimateGaussian(X=X_14)\n",
    "\n",
    "#Training set. Get probability of each point being anomalous in the training data set\n",
    "p_14 = multivariateGaussian(X_14, mu_14, sigma2_14)\n",
    "\n",
    "#Cross validation set. Get probability of each point being anomalous in the cross validation set\n",
    "pval_14 = multivariateGaussian(Xval_14,mu_14,sigma2_14)\n",
    "\n",
    "#Find the threshold\n",
    "F1_14, epsilon_14 = selectThreshold(yval_14,pval_14)\n",
    "\n",
    "print(\"Best epsilon found using cross-validation:\",epsilon_14)\n",
    "print(\"Best F1 on Cross Validation Set:\",F1_14)\n",
    "print(\"Outliers found : \",np.sum(p_14<epsilon_14))"
   ]
  },
  {
   "cell_type": "code",
   "execution_count": 31,
   "metadata": {},
   "outputs": [
    {
     "data": {
      "text/plain": [
       "(array([  4.93940034,  -9.63726819,  13.81470749, -10.4644888 ,\n",
       "         -7.95622922,  10.19950372,  -6.01940755,   7.96982896,\n",
       "         -6.2531819 ,   2.32451289,   8.47372252]),\n",
       " array([60.97489373, 53.20572186, 58.51546272, 84.20403725, 65.26859177,\n",
       "        89.57487757, 55.63349911, 87.16233783, 29.62926829, 70.7852052 ,\n",
       "        50.50356719]))"
      ]
     },
     "execution_count": 31,
     "metadata": {},
     "output_type": "execute_result"
    }
   ],
   "source": [
    "mu_14,sigma2_14"
   ]
  },
  {
   "cell_type": "markdown",
   "metadata": {},
   "source": [
    "# Part 2.1) Collaborative Filtering : Loading and Visualizing Data"
   ]
  },
  {
   "cell_type": "code",
   "execution_count": 32,
   "metadata": {},
   "outputs": [
    {
     "data": {
      "text/plain": [
       "dict_keys(['__header__', '__version__', '__globals__', 'Y', 'R'])"
      ]
     },
     "execution_count": 32,
     "metadata": {},
     "output_type": "execute_result"
    }
   ],
   "source": [
    "data_21 = loadmat('ex8_movies.mat')\n",
    "data_21.keys()"
   ]
  },
  {
   "cell_type": "code",
   "execution_count": 33,
   "metadata": {},
   "outputs": [],
   "source": [
    "Y,R = data_21['Y'], data_21['R']"
   ]
  },
  {
   "cell_type": "code",
   "execution_count": 34,
   "metadata": {},
   "outputs": [
    {
     "data": {
      "text/plain": [
       "((1682, 943), (1682, 943))"
      ]
     },
     "execution_count": 34,
     "metadata": {},
     "output_type": "execute_result"
    }
   ],
   "source": [
    "Y.shape, R.shape\n",
    "#Y is ratings (1-5) of 1682 movies on 943 users\n",
    "#R[i,j] is 1 if a user j (1 to 943) has given a rating to the movie i in (1-1682)"
   ]
  },
  {
   "cell_type": "code",
   "execution_count": 35,
   "metadata": {},
   "outputs": [
    {
     "name": "stdout",
     "output_type": "stream",
     "text": [
      "Average rating for movie 1 (Toy Story): 3.8783185840707963\n"
     ]
    }
   ],
   "source": [
    "print(\"Average rating for movie 1 (Toy Story):\",np.sum(Y[0,:]*R[0,:])/np.sum(R[0,:]))"
   ]
  },
  {
   "cell_type": "code",
   "execution_count": 36,
   "metadata": {},
   "outputs": [
    {
     "data": {
      "text/plain": [
       "Text(0,0.5,'Movies')"
      ]
     },
     "execution_count": 36,
     "metadata": {},
     "output_type": "execute_result"
    },
    {
     "data": {
      "image/png": "[encoded data removed]",
      "text/plain": [
       "<Figure size 432x576 with 1 Axes>"
      ]
     },
     "metadata": {
      "needs_background": "light"
     },
     "output_type": "display_data"
    }
   ],
   "source": [
    "plt.figure(figsize=(6,8))\n",
    "plt.imshow(Y)\n",
    "plt.xlabel(\"Users\")\n",
    "plt.ylabel(\"Movies\")"
   ]
  },
  {
   "cell_type": "markdown",
   "metadata": {},
   "source": [
    "# Part 2.2, 2.3 and 2.4) Collaborative filtering cost function"
   ]
  },
  {
   "cell_type": "code",
   "execution_count": 37,
   "metadata": {},
   "outputs": [
    {
     "data": {
      "text/plain": [
       "dict_keys(['__header__', '__version__', '__globals__', 'X', 'Theta', 'num_users', 'num_movies', 'num_features'])"
      ]
     },
     "execution_count": 37,
     "metadata": {},
     "output_type": "execute_result"
    }
   ],
   "source": [
    "data_22 = loadmat('ex8_movieParams.mat')\n",
    "data_22.keys()"
   ]
  },
  {
   "cell_type": "code",
   "execution_count": 38,
   "metadata": {},
   "outputs": [],
   "source": [
    "X_22,theta_22,num_user_22, num_movies_22, num_features_22 = data_22['X'],data_22['Theta'],data_22['num_users'],data_22['num_movies'],data_22['num_features']"
   ]
  },
  {
   "cell_type": "code",
   "execution_count": 39,
   "metadata": {},
   "outputs": [],
   "source": [
    "num_users = 4; num_movies = 5; num_features = 3"
   ]
  },
  {
   "cell_type": "code",
   "execution_count": 40,
   "metadata": {},
   "outputs": [
    {
     "data": {
      "text/plain": [
       "((1682, 10),\n",
       " (943, 10),\n",
       " array([[943]], dtype=uint16),\n",
       " array([[1682]], dtype=uint16),\n",
       " array([[10]], dtype=uint8))"
      ]
     },
     "execution_count": 40,
     "metadata": {},
     "output_type": "execute_result"
    }
   ],
   "source": [
    "X_22.shape,theta_22.shape,num_user_22,num_movies_22,num_features_22\n",
    "#X is feature vector for each movie\n",
    "#Theta is each users feature vector where features are same as movie features"
   ]
  },
  {
   "cell_type": "code",
   "execution_count": 41,
   "metadata": {},
   "outputs": [],
   "source": [
    "X_trimmed = X_22[0:num_movies,0:num_features]"
   ]
  },
  {
   "cell_type": "code",
   "execution_count": 42,
   "metadata": {},
   "outputs": [
    {
     "data": {
      "text/plain": [
       "(5, 3)"
      ]
     },
     "execution_count": 42,
     "metadata": {},
     "output_type": "execute_result"
    }
   ],
   "source": [
    "X_trimmed.shape"
   ]
  },
  {
   "cell_type": "code",
   "execution_count": 43,
   "metadata": {},
   "outputs": [
    {
     "data": {
      "text/plain": [
       "(4, 3)"
      ]
     },
     "execution_count": 43,
     "metadata": {},
     "output_type": "execute_result"
    }
   ],
   "source": [
    "theta_trimmed = theta_22[0:num_users,0:num_features]\n",
    "theta_trimmed.shape"
   ]
  },
  {
   "cell_type": "code",
   "execution_count": 44,
   "metadata": {},
   "outputs": [],
   "source": [
    "#Y is ratings (1-5) of 1682 movies on 943 users\n",
    "#R[i,j] is 1 if a user j (1 to 943) has given a rating to the movie i in (1-1682)\n",
    "Y_trimmed = Y[0:num_movies,0:num_users]\n",
    "R_trimmed = R[0:num_movies,0:num_users]"
   ]
  },
  {
   "cell_type": "code",
   "execution_count": 45,
   "metadata": {},
   "outputs": [],
   "source": [
    "def cofiCostFunction(params,Y,R,num_users,num_movies,num_features,reg):\n",
    "    X = params[:num_movies*num_features].reshape(num_movies,num_features)\n",
    "    theta = params[num_movies*num_features:].reshape(num_users,num_features)\n",
    "    predictions = np.dot(X, theta.T)\n",
    "    error = (predictions - Y) \n",
    "    J = (1/2) * np.sum((error**2)*R)\n",
    "    \n",
    "    #compute regularization\n",
    "    X_reg = reg/2*np.sum(X**2)\n",
    "    theta_reg = reg/2 * np.sum(theta**2)\n",
    "    J_reg = J + X_reg + theta_reg\n",
    "    \n",
    "    #Compute gradient\n",
    "    X_grad = np.dot((error*R),theta)\n",
    "    theta_grad = np.dot((error*R).T,X)\n",
    "    grad = np.append(X_grad.flatten(),theta_grad.flatten())\n",
    "    \n",
    "    #compute regularized gradient\n",
    "    X_grad_reg = X_grad + (reg*X)\n",
    "    theta_grad_reg = theta_grad + (reg*theta)\n",
    "    grad_reg = np.append(X_grad_reg.flatten(),theta_grad_reg.flatten())\n",
    "    return J, grad, J_reg, grad_reg\n",
    "    "
   ]
  },
  {
   "cell_type": "code",
   "execution_count": 46,
   "metadata": {},
   "outputs": [],
   "source": [
    "params = np.append(X_trimmed.flatten(),theta_trimmed.flatten()) #shape will be num_movies * features + num_users* features = 5*3 + 4*3 = 15+12 = 27\n",
    "# we are flattening and appending all the movie feature vector and all the user feature vectors\n",
    "J, grad, J_reg, grad_reg = cofiCostFunction(params,Y_trimmed,R_trimmed, num_users,num_movies, num_features,1.5)\n",
    "\n"
   ]
  },
  {
   "cell_type": "code",
   "execution_count": 47,
   "metadata": {},
   "outputs": [
    {
     "data": {
      "text/plain": [
       "(22.224603725685675,\n",
       " array([ -2.52899165,   7.57570308,  -1.89979026,  -0.56819597,\n",
       "          3.35265031,  -0.52339845,  -0.83240713,   4.91163297,\n",
       "         -0.76677878,  -0.38358278,   2.26333698,  -0.35334048,\n",
       "         -0.80378006,   4.74271842,  -0.74040871, -10.5680202 ,\n",
       "          4.62776019,  -7.16004443,  -3.05099006,   1.16441367,\n",
       "         -3.47410789,   0.        ,   0.        ,   0.        ,\n",
       "          0.        ,   0.        ,   0.        ]),\n",
       " 31.344056244274217,\n",
       " array([ -0.95596339,   6.97535514,  -0.10861109,   0.60308088,\n",
       "          2.77421145,   0.25839822,   0.12985616,   4.0898522 ,\n",
       "         -0.89247334,   0.29684395,   1.06300933,   0.66738144,\n",
       "          0.60252677,   4.90185327,  -0.19747928, -10.13985478,\n",
       "          2.10136256,  -6.76563628,  -2.29347024,   0.48244098,\n",
       "         -2.99791422,  -0.64787484,  -0.71820673,   1.27006666,\n",
       "          1.09289758,  -0.40784086,   0.49026541]))"
      ]
     },
     "execution_count": 47,
     "metadata": {},
     "output_type": "execute_result"
    }
   ],
   "source": [
    "J, grad, J_reg, grad_reg"
   ]
  },
  {
   "cell_type": "markdown",
   "metadata": {},
   "source": [
    "# Part 2.6) Entering Ratings for a new user"
   ]
  },
  {
   "cell_type": "code",
   "execution_count": 49,
   "metadata": {},
   "outputs": [],
   "source": [
    "data_26 = open(\"movie_ids.txt\",\"r\",errors=\"ignore\").read().split(\"\\n\")[:-1]"
   ]
  },
  {
   "cell_type": "code",
   "execution_count": 53,
   "metadata": {},
   "outputs": [
    {
     "data": {
      "text/plain": [
       "['1 Toy Story (1995)',\n",
       " '2 GoldenEye (1995)',\n",
       " '3 Four Rooms (1995)',\n",
       " '4 Get Shorty (1995)',\n",
       " '5 Copycat (1995)']"
      ]
     },
     "execution_count": 53,
     "metadata": {},
     "output_type": "execute_result"
    }
   ],
   "source": [
    "data_26[0:5]"
   ]
  },
  {
   "cell_type": "code",
   "execution_count": 54,
   "metadata": {},
   "outputs": [
    {
     "name": "stdout",
     "output_type": "stream",
     "text": [
      "New user ratings:\n",
      "\n",
      "Rated  4  for index 1 Toy Story (1995)\n",
      "Rated  3  for index 7 Twelve Monkeys (1995)\n",
      "Rated  5  for index 12 Usual Suspects, The (1995)\n",
      "Rated  4  for index 54 Outbreak (1995)\n",
      "Rated  5  for index 64 Shawshank Redemption, The (1994)\n",
      "Rated  3  for index 66 While You Were Sleeping (1995)\n",
      "Rated  5  for index 69 Forrest Gump (1994)\n",
      "Rated  4  for index 83 Much Ado About Nothing (1993)\n",
      "Rated  2  for index 98 Silence of the Lambs, The (1991)\n",
      "Rated  5  for index 226 Die Hard 2 (1990)\n",
      "Rated  5  for index 355 Sphere (1998)\n"
     ]
    }
   ],
   "source": [
    "#initialize ratings \n",
    "my_ratings = np.zeros((1682,1))\n",
    "\n",
    "my_ratings[0] = 4 \n",
    "my_ratings[97] = 2\n",
    "my_ratings[6] = 3\n",
    "my_ratings[11]= 5\n",
    "my_ratings[53] = 4\n",
    "my_ratings[63]= 5\n",
    "my_ratings[65]= 3\n",
    "my_ratings[68] = 5\n",
    "my_ratings[82]= 4\n",
    "my_ratings[225] = 5\n",
    "my_ratings[354]= 5\n",
    "\n",
    "print(\"New user ratings:\\n\")\n",
    "for i in range(len(my_ratings)):\n",
    "    if my_ratings[i] >0:\n",
    "        print(\"Rated \",int(my_ratings[i]),\" for index\",data_26[i])"
   ]
  },
  {
   "cell_type": "markdown",
   "metadata": {},
   "source": [
    "# Part 2.7) Learning Movie Ratings"
   ]
  },
  {
   "cell_type": "code",
   "execution_count": 55,
   "metadata": {},
   "outputs": [
    {
     "data": {
      "text/plain": [
       "dict_keys(['__header__', '__version__', '__globals__', 'Y', 'R'])"
      ]
     },
     "execution_count": 55,
     "metadata": {},
     "output_type": "execute_result"
    }
   ],
   "source": [
    "data_27 = loadmat('ex8_movies.mat')\n",
    "data_27.keys()"
   ]
  },
  {
   "cell_type": "code",
   "execution_count": 56,
   "metadata": {},
   "outputs": [],
   "source": [
    "Y_27, R_27 = data_27['Y'], data_27['R']"
   ]
  },
  {
   "cell_type": "code",
   "execution_count": 57,
   "metadata": {},
   "outputs": [
    {
     "data": {
      "text/plain": [
       "((1682, 943), (1682, 943))"
      ]
     },
     "execution_count": 57,
     "metadata": {},
     "output_type": "execute_result"
    }
   ],
   "source": [
    "Y_27.shape, R_27.shape"
   ]
  },
  {
   "cell_type": "code",
   "execution_count": 58,
   "metadata": {},
   "outputs": [],
   "source": [
    "#Lets add our own rating to the Y matrix\n",
    "Y_27_new = np.hstack((my_ratings,Y_27))"
   ]
  },
  {
   "cell_type": "code",
   "execution_count": 59,
   "metadata": {},
   "outputs": [
    {
     "data": {
      "text/plain": [
       "(1682, 944)"
      ]
     },
     "execution_count": 59,
     "metadata": {},
     "output_type": "execute_result"
    }
   ],
   "source": [
    "Y_27_new.shape"
   ]
  },
  {
   "cell_type": "code",
   "execution_count": 60,
   "metadata": {},
   "outputs": [],
   "source": [
    "R_27_new = np.hstack((np.where(my_ratings>0,1,0),R_27))"
   ]
  },
  {
   "cell_type": "code",
   "execution_count": 61,
   "metadata": {},
   "outputs": [
    {
     "data": {
      "text/plain": [
       "(1682, 944)"
      ]
     },
     "execution_count": 61,
     "metadata": {},
     "output_type": "execute_result"
    }
   ],
   "source": [
    "R_27_new.shape"
   ]
  },
  {
   "cell_type": "code",
   "execution_count": 62,
   "metadata": {},
   "outputs": [],
   "source": [
    "def normalizeRatings(Y,R):\n",
    "    '''Preprocess data by subtracting mean rating for every movie from every row'''\n",
    "    num_movies, num_users = Y.shape[0],Y.shape[1]\n",
    "    Y_mean = np.zeros((num_movies,1))\n",
    "    Y_norm = np.zeros_like((Y))\n",
    "    \n",
    "    for i in range(num_movies):\n",
    "        Y_mean[i] = np.sum(Y[i])/np.sum(R[i])\n",
    "        Y_norm[i,R[i,:]==1] = Y[i,R[i,:]==1]-Y_mean[i]\n",
    "    return Y_norm, Y_mean\n",
    "    #we only want to get mean where R is 1"
   ]
  },
  {
   "cell_type": "code",
   "execution_count": 63,
   "metadata": {},
   "outputs": [],
   "source": [
    "Y_norm, Y_mean = normalizeRatings(Y_27_new,R_27_new)"
   ]
  },
  {
   "cell_type": "code",
   "execution_count": 64,
   "metadata": {},
   "outputs": [],
   "source": [
    "def gradientDescent(params,Y,R,num_users, num_movies, num_features,max_iter, alpha,lam):\n",
    "    X = params[:num_movies*num_features].reshape(num_movies, num_features)\n",
    "    initial_theta = params[num_movies*num_features:].reshape(num_users, num_features)\n",
    "    theta = initial_theta\n",
    "    J_history=[]\n",
    "    for i in range(max_iter):\n",
    "        prediction = np.dot(X,theta.T)#this will gives num_movies, num_user predictions\n",
    "        error = prediction - Y\n",
    "        J = (1/2) * np.sum((error**2)*R) #compute error only where user gave a rating\n",
    "        \n",
    "        #compute regularizations \n",
    "        X_reg = (lam/2)*(np.sum(X**2))\n",
    "        theta_reg = (lam/2)*(np.sum(theta**2))\n",
    "        J_reg = J + X_reg + theta_reg\n",
    "        \n",
    "        #compute gradient\n",
    "        X_grad = np.dot((error*R),theta)\n",
    "        theta_grad = np.dot((error*R).T, X)\n",
    "        grad = np.append(X_grad.flatten(),theta_grad.flatten())\n",
    "        \n",
    "        #compute regularized gradient\n",
    "        X_reg_grad = X_grad + (lam*X)\n",
    "        theta_reg_grad = theta_grad + (lam*theta)\n",
    "        \n",
    "        #update X and theta\n",
    "        X = X - alpha*(X_reg_grad)\n",
    "        theta = theta - alpha*(theta_reg_grad)\n",
    "        J_history.append(J_reg)\n",
    "        \n",
    "    paramsFinal = np.append(X.flatten(),Theta.flatten())\n",
    "    return paramsFinal , J_history"
   ]
  },
  {
   "cell_type": "code",
   "execution_count": 65,
   "metadata": {},
   "outputs": [],
   "source": [
    "num_users = Y_27_new.shape[1]\n",
    "num_movies = Y_27_new.shape[0]\n",
    "num_features = 10\n",
    "\n",
    "# Set initial Parameters (Theta,X)\n",
    "X = np.random.randn(num_movies, num_features)\n",
    "Theta = np.random.randn(num_users, num_features)\n",
    "initial_parameters = np.append(X.flatten(),Theta.flatten())\n",
    "Lambda = 10\n",
    "paramsFinal, J_history = gradientDescent(initial_parameters,Y_27_new,R_27_new,num_users,num_movies,num_features,400,0.001,Lambda)"
   ]
  },
  {
   "cell_type": "code",
   "execution_count": 66,
   "metadata": {},
   "outputs": [
    {
     "data": {
      "text/plain": [
       "Text(0.5,1,'Cost function using Gradient Descent')"
      ]
     },
     "execution_count": 66,
     "metadata": {},
     "output_type": "execute_result"
    },
    {
     "data": {
      "image/png": "[encoded data removed]",
      "text/plain": [
       "<Figure size 432x288 with 1 Axes>"
      ]
     },
     "metadata": {
      "needs_background": "light"
     },
     "output_type": "display_data"
    }
   ],
   "source": [
    "plt.plot(J_history)\n",
    "plt.xlabel(\"Iteration\")\n",
    "plt.ylabel(\"$J(\\Theta)$\")\n",
    "plt.title(\"Cost function using Gradient Descent\")"
   ]
  },
  {
   "cell_type": "markdown",
   "metadata": {},
   "source": [
    "# Part 2.8) Recommending for you"
   ]
  },
  {
   "cell_type": "code",
   "execution_count": 67,
   "metadata": {},
   "outputs": [],
   "source": [
    "#We have the movie feature vector X and we have the user feature vector. Let's use those to predict ratings\n",
    "\n",
    "new_X = paramsFinal[:num_movies*num_features].reshape(num_movies, num_features)\n",
    "new_theta = paramsFinal[num_movies*num_features:].reshape(num_users, num_features)\n",
    "new_predictions = np.dot(new_X, new_theta.T)"
   ]
  },
  {
   "cell_type": "code",
   "execution_count": 68,
   "metadata": {},
   "outputs": [
    {
     "data": {
      "text/plain": [
       "((1682, 10), (944, 10), (1682, 944))"
      ]
     },
     "execution_count": 68,
     "metadata": {},
     "output_type": "execute_result"
    }
   ],
   "source": [
    "new_X.shape,new_theta.shape,new_predictions.shape"
   ]
  },
  {
   "cell_type": "code",
   "execution_count": 73,
   "metadata": {},
   "outputs": [],
   "source": [
    "#My predictions will be in the first column\n",
    "my_predictions = new_predictions[:,0][:,np.newaxis] + Y_mean"
   ]
  },
  {
   "cell_type": "code",
   "execution_count": 85,
   "metadata": {},
   "outputs": [],
   "source": [
    "import pandas as pd\n",
    "df = pd.DataFrame(np.hstack((my_predictions,np.array(data_26)[:,np.newaxis])))"
   ]
  },
  {
   "cell_type": "code",
   "execution_count": 86,
   "metadata": {},
   "outputs": [],
   "source": [
    "df.sort_values(by=0,ascending=False,inplace=True)"
   ]
  },
  {
   "cell_type": "code",
   "execution_count": 87,
   "metadata": {},
   "outputs": [
    {
     "data": {
      "text/html": [
       "<div>\n",
       "<style scoped>\n",
       "    .dataframe tbody tr th:only-of-type {\n",
       "        vertical-align: middle;\n",
       "    }\n",
       "\n",
       "    .dataframe tbody tr th {\n",
       "        vertical-align: top;\n",
       "    }\n",
       "\n",
       "    .dataframe thead th {\n",
       "        text-align: right;\n",
       "    }\n",
       "</style>\n",
       "<table border=\"1\" class=\"dataframe\">\n",
       "  <thead>\n",
       "    <tr style=\"text-align: right;\">\n",
       "      <th></th>\n",
       "      <th>0</th>\n",
       "      <th>1</th>\n",
       "    </tr>\n",
       "  </thead>\n",
       "  <tbody>\n",
       "    <tr>\n",
       "      <th>312</th>\n",
       "      <td>8.50786316161929</td>\n",
       "      <td>313 Titanic (1997)</td>\n",
       "    </tr>\n",
       "    <tr>\n",
       "      <th>274</th>\n",
       "      <td>8.382878749026421</td>\n",
       "      <td>275 Sense and Sensibility (1995)</td>\n",
       "    </tr>\n",
       "    <tr>\n",
       "      <th>317</th>\n",
       "      <td>8.317902376992048</td>\n",
       "      <td>318 Schindler's List (1993)</td>\n",
       "    </tr>\n",
       "    <tr>\n",
       "      <th>70</th>\n",
       "      <td>8.267578571044124</td>\n",
       "      <td>71 Lion King, The (1994)</td>\n",
       "    </tr>\n",
       "    <tr>\n",
       "      <th>142</th>\n",
       "      <td>8.266642381048577</td>\n",
       "      <td>143 Sound of Music, The (1965)</td>\n",
       "    </tr>\n",
       "  </tbody>\n",
       "</table>\n",
       "</div>"
      ],
      "text/plain": [
       "                     0                                 1\n",
       "312   8.50786316161929                313 Titanic (1997)\n",
       "274  8.382878749026421  275 Sense and Sensibility (1995)\n",
       "317  8.317902376992048       318 Schindler's List (1993)\n",
       "70   8.267578571044124          71 Lion King, The (1994)\n",
       "142  8.266642381048577    143 Sound of Music, The (1965)"
      ]
     },
     "execution_count": 87,
     "metadata": {},
     "output_type": "execute_result"
    }
   ],
   "source": [
    "df.head()"
   ]
  },
  {
   "cell_type": "code",
   "execution_count": 88,
   "metadata": {},
   "outputs": [],
   "source": [
    "df.reset_index(drop=True, inplace=True)"
   ]
  },
  {
   "cell_type": "code",
   "execution_count": 89,
   "metadata": {},
   "outputs": [
    {
     "data": {
      "text/html": [
       "<div>\n",
       "<style scoped>\n",
       "    .dataframe tbody tr th:only-of-type {\n",
       "        vertical-align: middle;\n",
       "    }\n",
       "\n",
       "    .dataframe tbody tr th {\n",
       "        vertical-align: top;\n",
       "    }\n",
       "\n",
       "    .dataframe thead th {\n",
       "        text-align: right;\n",
       "    }\n",
       "</style>\n",
       "<table border=\"1\" class=\"dataframe\">\n",
       "  <thead>\n",
       "    <tr style=\"text-align: right;\">\n",
       "      <th></th>\n",
       "      <th>0</th>\n",
       "      <th>1</th>\n",
       "    </tr>\n",
       "  </thead>\n",
       "  <tbody>\n",
       "    <tr>\n",
       "      <th>0</th>\n",
       "      <td>8.50786316161929</td>\n",
       "      <td>313 Titanic (1997)</td>\n",
       "    </tr>\n",
       "    <tr>\n",
       "      <th>1</th>\n",
       "      <td>8.382878749026421</td>\n",
       "      <td>275 Sense and Sensibility (1995)</td>\n",
       "    </tr>\n",
       "    <tr>\n",
       "      <th>2</th>\n",
       "      <td>8.317902376992048</td>\n",
       "      <td>318 Schindler's List (1993)</td>\n",
       "    </tr>\n",
       "    <tr>\n",
       "      <th>3</th>\n",
       "      <td>8.267578571044124</td>\n",
       "      <td>71 Lion King, The (1994)</td>\n",
       "    </tr>\n",
       "    <tr>\n",
       "      <th>4</th>\n",
       "      <td>8.266642381048577</td>\n",
       "      <td>143 Sound of Music, The (1965)</td>\n",
       "    </tr>\n",
       "  </tbody>\n",
       "</table>\n",
       "</div>"
      ],
      "text/plain": [
       "                   0                                 1\n",
       "0   8.50786316161929                313 Titanic (1997)\n",
       "1  8.382878749026421  275 Sense and Sensibility (1995)\n",
       "2  8.317902376992048       318 Schindler's List (1993)\n",
       "3  8.267578571044124          71 Lion King, The (1994)\n",
       "4  8.266642381048577    143 Sound of Music, The (1965)"
      ]
     },
     "execution_count": 89,
     "metadata": {},
     "output_type": "execute_result"
    }
   ],
   "source": [
    "df.head()"
   ]
  },
  {
   "cell_type": "code",
   "execution_count": 92,
   "metadata": {},
   "outputs": [
    {
     "name": "stdout",
     "output_type": "stream",
     "text": [
      "Top 10 movie recommendations\n",
      "\n",
      "Predicting rating  8.5  for  313 Titanic (1997) \n",
      "\n",
      "Predicting rating  8.4  for  275 Sense and Sensibility (1995) \n",
      "\n",
      "Predicting rating  8.3  for  318 Schindler's List (1993) \n",
      "\n",
      "Predicting rating  8.3  for  71 Lion King, The (1994) \n",
      "\n",
      "Predicting rating  8.3  for  143 Sound of Music, The (1965) \n",
      "\n",
      "Predicting rating  8.2  for  64 Shawshank Redemption, The (1994) \n",
      "\n",
      "Predicting rating  8.2  for  515 Boot, Das (1981) \n",
      "\n",
      "Predicting rating  8.1  for  15 Mr. Holland's Opus (1995) \n",
      "\n",
      "Predicting rating  8.1  for  496 It's a Wonderful Life (1946) \n",
      "\n",
      "Predicting rating  8.1  for  216 When Harry Met Sally... (1989) \n",
      "\n"
     ]
    }
   ],
   "source": [
    "print(\"Top 10 movie recommendations\\n\")\n",
    "for i in range(10):\n",
    "    print(\"Predicting rating \",round(float(df[0][i]),1),\" for \",df[1][i],\"\\n\")"
   ]
  },
  {
   "cell_type": "code",
   "execution_count": null,
   "metadata": {},
   "outputs": [],
   "source": []
  }
 ],
 "metadata": {
  "kernelspec": {
   "display_name": "Python 3",
   "language": "python",
   "name": "python3"
  },
  "language_info": {
   "codemirror_mode": {
    "name": "ipython",
    "version": 3
   },
   "file_extension": ".py",
   "mimetype": "text/x-python",
   "name": "python",
   "nbconvert_exporter": "python",
   "pygments_lexer": "ipython3",
   "version": "3.7.0"
  }
 },
 "nbformat": 4,
 "nbformat_minor": 2
}
