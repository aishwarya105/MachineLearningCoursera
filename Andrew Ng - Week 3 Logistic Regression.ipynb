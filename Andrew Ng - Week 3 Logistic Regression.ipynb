{
 "cells": [
  {
   "cell_type": "code",
   "execution_count": 2,
   "metadata": {},
   "outputs": [],
   "source": [
    "%matplotlib inline\n",
    "import numpy as np\n",
    "import matplotlib.pyplot as plt\n",
    "import seaborn; seaborn.set_style('whitegrid')"
   ]
  },
  {
   "cell_type": "code",
   "execution_count": 5,
   "metadata": {},
   "outputs": [],
   "source": [
    "#loading the data. The first two columns are the scores and the third is the label\n",
    "\n",
    "data = np.loadtxt('ex2data1.txt', delimiter=',')\n",
    "X,y = data[:,:2], data[:,2]"
   ]
  },
  {
   "cell_type": "code",
   "execution_count": 6,
   "metadata": {},
   "outputs": [
    {
     "name": "stdout",
     "output_type": "stream",
     "text": [
      "(100, 2)\n"
     ]
    }
   ],
   "source": [
    "print(X.shape)"
   ]
  },
  {
   "cell_type": "code",
   "execution_count": 7,
   "metadata": {},
   "outputs": [
    {
     "name": "stdout",
     "output_type": "stream",
     "text": [
      "(100,)\n"
     ]
    }
   ],
   "source": [
    "print(y.shape)"
   ]
  },
  {
   "cell_type": "code",
   "execution_count": 8,
   "metadata": {},
   "outputs": [
    {
     "data": {
      "text/plain": [
       "(array([[34.62365962, 78.02469282],\n",
       "        [30.28671077, 43.89499752],\n",
       "        [35.84740877, 72.90219803],\n",
       "        [60.18259939, 86.3085521 ],\n",
       "        [79.03273605, 75.34437644]]), array([0., 0., 0., 1., 1.]))"
      ]
     },
     "execution_count": 8,
     "metadata": {},
     "output_type": "execute_result"
    }
   ],
   "source": [
    "X[:5], y[:5]"
   ]
  },
  {
   "cell_type": "code",
   "execution_count": 9,
   "metadata": {},
   "outputs": [],
   "source": [
    "#Creating plotdata method to plot the data where the axis are two exam scores\n",
    "def Plotdata(X,y, xlabel, ylabel, labelPos, labelNeg):\n",
    "    \n",
    "    #sepaarating positive and negative scores\n",
    "    pos = y==1\n",
    "    neg = y==0\n",
    "    \n",
    "    plt.scatter(X[pos,0], X[pos,1], s=30, c='darkblue', marker ='+', label = labelPos)\n",
    "    plt.scatter(X[neg,0], X[neg,1], s=30, c='pink', marker ='o', label = labelNeg)\n",
    "    \n",
    "    plt.xlabel(xlabel)\n",
    "    plt.ylabel(ylabel)\n",
    "    \n",
    "    plt.xlim(X[:,0].min(), X[:,0].max())\n",
    "    plt.ylim(X[:,1].min(), X[:,1].max())\n",
    "    \n",
    "    #Legend\n",
    "    pst = plt.legend(loc = 'upper right', frameon = True)\n",
    "    pst.get_frame().set_edgecolor('k')"
   ]
  },
  {
   "cell_type": "code",
   "execution_count": 10,
   "metadata": {},
   "outputs": [
    {
     "data": {
      "image/png": "[encoded data removed]",
      "text/plain": [
       "<Figure size 432x288 with 1 Axes>"
      ]
     },
     "metadata": {
      "needs_background": "light"
     },
     "output_type": "display_data"
    }
   ],
   "source": [
    "Plotdata(X,y,'exam 1 score','exam 3 scores','positive','negative')"
   ]
  },
  {
   "cell_type": "markdown",
   "metadata": {},
   "source": [
    "# 1) Sigmoid Function"
   ]
  },
  {
   "cell_type": "code",
   "execution_count": 15,
   "metadata": {},
   "outputs": [],
   "source": [
    "from scipy.special import expit\n",
    "\n",
    "def sigmoid(z):\n",
    "    #return (1/(1+(np.exp(-z))))\n",
    "    return expit(z)"
   ]
  },
  {
   "cell_type": "code",
   "execution_count": 16,
   "metadata": {},
   "outputs": [
    {
     "data": {
      "text/plain": [
       "0.9999999979388463"
      ]
     },
     "execution_count": 16,
     "metadata": {},
     "output_type": "execute_result"
    }
   ],
   "source": [
    "sigmoid(20)"
   ]
  },
  {
   "cell_type": "code",
   "execution_count": 21,
   "metadata": {},
   "outputs": [
    {
     "data": {
      "text/plain": [
       "Text(0,0.5,'sigmoid(x)')"
      ]
     },
     "execution_count": 21,
     "metadata": {},
     "output_type": "execute_result"
    },
    {
     "data": {
      "image/png": "[encoded data removed]",
      "text/plain": [
       "<Figure size 432x288 with 1 Axes>"
      ]
     },
     "metadata": {
      "needs_background": "light"
     },
     "output_type": "display_data"
    }
   ],
   "source": [
    "#Testing the sigmoid function\n",
    "\n",
    "test_sig = np.linspace(-10,10,10000)\n",
    "out_sig = sigmoid(test_sig)\n",
    "plt.plot(test_sig, out_sig)\n",
    "plt.xlabel('x')\n",
    "plt.ylabel('sigmoid(x)')"
   ]
  },
  {
   "cell_type": "markdown",
   "metadata": {},
   "source": [
    "# 2) Cost function and gradient"
   ]
  },
  {
   "cell_type": "code",
   "execution_count": 50,
   "metadata": {},
   "outputs": [],
   "source": [
    "#Cost function\n",
    "\n",
    "def Costfunction (theta, X, y):\n",
    "    m = len(y)\n",
    "    \n",
    "    z = np.dot(X, theta)\n",
    "    \n",
    "    htheta = sigmoid(z)\n",
    "    \n",
    "    J= -( (np.dot(y, np.log(htheta))) + (np.dot((1-y), np.log(1-htheta))) )/m\n",
    "    \n",
    "    return J\n",
    "    "
   ]
  },
  {
   "cell_type": "code",
   "execution_count": 53,
   "metadata": {},
   "outputs": [],
   "source": [
    "#gradient function\n",
    "\n",
    "def gradientdescent(theta,X,y):\n",
    "    m = len(y)\n",
    "    z = np.dot(X,theta)\n",
    "    htheta = sigmoid(z)\n",
    "    \n",
    "    return np.dot( X.T, (htheta - y))/m "
   ]
  },
  {
   "cell_type": "code",
   "execution_count": 31,
   "metadata": {},
   "outputs": [],
   "source": [
    "#Stack 1s onto the left of X for the bias parameter\n",
    "\n",
    "X = np.hstack((np.ones((X.shape[0],1)), X))"
   ]
  },
  {
   "cell_type": "code",
   "execution_count": 48,
   "metadata": {},
   "outputs": [],
   "source": [
    "theta = np.zeros(X.shape[1])"
   ]
  },
  {
   "cell_type": "code",
   "execution_count": 54,
   "metadata": {},
   "outputs": [
    {
     "name": "stdout",
     "output_type": "stream",
     "text": [
      "Cost : %0.3f 0.6931471805599452\n",
      "Gradient : [ -0.1        -12.00921659 -11.26284221]\n"
     ]
    }
   ],
   "source": [
    "J = Costfunction(theta, X, y)\n",
    "gradient = gradientdescent(theta, X, y)\n",
    "\n",
    "print(\"Cost : %0.3f\",J)\n",
    "print(\"Gradient : {0}\".format(gradient))"
   ]
  },
  {
   "cell_type": "code",
   "execution_count": 43,
   "metadata": {},
   "outputs": [
    {
     "data": {
      "text/plain": [
       "(100, 3)"
      ]
     },
     "execution_count": 43,
     "metadata": {},
     "output_type": "execute_result"
    }
   ],
   "source": [
    "X.shape"
   ]
  },
  {
   "cell_type": "code",
   "execution_count": 44,
   "metadata": {},
   "outputs": [
    {
     "data": {
      "text/plain": [
       "(3,)"
      ]
     },
     "execution_count": 44,
     "metadata": {},
     "output_type": "execute_result"
    }
   ],
   "source": [
    "theta.shape"
   ]
  },
  {
   "cell_type": "code",
   "execution_count": 45,
   "metadata": {},
   "outputs": [
    {
     "data": {
      "text/plain": [
       "array([0., 0., 0., 0., 0., 0., 0., 0., 0., 0., 0., 0., 0., 0., 0., 0., 0.,\n",
       "       0., 0., 0., 0., 0., 0., 0., 0., 0., 0., 0., 0., 0., 0., 0., 0., 0.,\n",
       "       0., 0., 0., 0., 0., 0., 0., 0., 0., 0., 0., 0., 0., 0., 0., 0., 0.,\n",
       "       0., 0., 0., 0., 0., 0., 0., 0., 0., 0., 0., 0., 0., 0., 0., 0., 0.,\n",
       "       0., 0., 0., 0., 0., 0., 0., 0., 0., 0., 0., 0., 0., 0., 0., 0., 0.,\n",
       "       0., 0., 0., 0., 0., 0., 0., 0., 0., 0., 0., 0., 0., 0., 0.])"
      ]
     },
     "execution_count": 45,
     "metadata": {},
     "output_type": "execute_result"
    }
   ],
   "source": [
    "np.dot(X,theta)"
   ]
  },
  {
   "cell_type": "markdown",
   "metadata": {},
   "source": [
    "# 3) Optimizing parameters"
   ]
  },
  {
   "cell_type": "code",
   "execution_count": 56,
   "metadata": {},
   "outputs": [
    {
     "name": "stdout",
     "output_type": "stream",
     "text": [
      "Optimization terminated successfully.\n",
      "         Current function value: 0.203498\n",
      "         Iterations: 23\n",
      "         Function evaluations: 31\n",
      "         Gradient evaluations: 31\n"
     ]
    },
    {
     "name": "stderr",
     "output_type": "stream",
     "text": [
      "/anaconda3/lib/python3.7/site-packages/ipykernel_launcher.py:10: RuntimeWarning: divide by zero encountered in log\n",
      "  # Remove the CWD from sys.path while we load stuff.\n"
     ]
    },
    {
     "data": {
      "text/plain": [
       "      fun: 0.20349770158944375\n",
       " hess_inv: array([[ 3.31474479e+03, -2.63892205e+01, -2.70237122e+01],\n",
       "       [-2.63892205e+01,  2.23869433e-01,  2.02682332e-01],\n",
       "       [-2.70237122e+01,  2.02682332e-01,  2.35335117e-01]])\n",
       "      jac: array([-9.52476836e-09, -9.31921327e-07, -2.82608940e-07])\n",
       "  message: 'Optimization terminated successfully.'\n",
       "     nfev: 31\n",
       "      nit: 23\n",
       "     njev: 31\n",
       "   status: 0\n",
       "  success: True\n",
       "        x: array([-25.16133284,   0.2062317 ,   0.2014716 ])"
      ]
     },
     "execution_count": 56,
     "metadata": {},
     "output_type": "execute_result"
    }
   ],
   "source": [
    "from scipy.optimize import minimize\n",
    "\n",
    "#find the best parameters for theta using the functions we created earlier\n",
    "#expecting to see cost around 0.23 per assignment\n",
    "\n",
    "result = minimize(Costfunction, theta, args=(X,y), method = 'BFGS', jac = gradientdescent, options = {'maxiter':400, 'disp':True})\n",
    "result"
   ]
  },
  {
   "cell_type": "code",
   "execution_count": 58,
   "metadata": {},
   "outputs": [
    {
     "data": {
      "text/plain": [
       "array([-25.16133284,   0.2062317 ,   0.2014716 ])"
      ]
     },
     "execution_count": 58,
     "metadata": {},
     "output_type": "execute_result"
    }
   ],
   "source": [
    "#store the parameters and plot decision boundary\n",
    "\n",
    "gradBFGS = result['x']\n",
    "\n",
    "#decision boundary theta0 + theta1x1 + theta2x2 = 0\n",
    "therefore x2 = theta1*x1 "
   ]
  },
  {
   "cell_type": "code",
   "execution_count": 61,
   "metadata": {},
   "outputs": [],
   "source": [
    "plot_x = np.array([np.min(X[:,1])-1, np.max(X[:,1])+1])\n",
    "plot_y = (gradBFGS[0] + gradBFGS[1]*plot_x)/(-gradBFGS[2])\n"
   ]
  },
  {
   "cell_type": "code",
   "execution_count": 66,
   "metadata": {},
   "outputs": [
    {
     "data": {
      "text/plain": [
       "[<matplotlib.lines.Line2D at 0x1a184f1518>]"
      ]
     },
     "execution_count": 66,
     "metadata": {},
     "output_type": "execute_result"
    },
    {
     "data": {
      "image/png": "[encoded data removed]",
      "text/plain": [
       "<Figure size 432x288 with 1 Axes>"
      ]
     },
     "metadata": {
      "needs_background": "light"
     },
     "output_type": "display_data"
    }
   ],
   "source": [
    "Plotdata(X[:,1:], y, 'Exam 1 score', 'Exam 2 score', 'Admitted', 'Not Admitted')\n",
    "plt.plot(plot_x, plot_y)"
   ]
  },
  {
   "cell_type": "code",
   "execution_count": 67,
   "metadata": {},
   "outputs": [
    {
     "data": {
      "text/plain": [
       "0.7762907240588938"
      ]
     },
     "execution_count": 67,
     "metadata": {},
     "output_type": "execute_result"
    }
   ],
   "source": [
    "#compute probability of admission for a student with score 45 and 85\n",
    "\n",
    "#we know the parameteres, compute z, find sigmoid\n",
    "probability = sigmoid(gradBFGS[0] + gradBFGS[1]*45 + gradBFGS[2]*85)\n",
    "probability"
   ]
  },
  {
   "cell_type": "code",
   "execution_count": 78,
   "metadata": {},
   "outputs": [],
   "source": [
    "#Now we will compute the training accuracy to see the number of training examples it got correct, \n",
    "\n",
    "\n",
    "def predict(theta, X):\n",
    "    hThetaX = sigmoid(np.dot(X, theta))\n",
    "\n",
    "    arr = []\n",
    "    for h in hThetaX: \n",
    "        if (h>0.5):\n",
    "            arr.append(1)\n",
    "        else:\n",
    "            arr.append(0)\n",
    "    return np.array(arr)"
   ]
  },
  {
   "cell_type": "code",
   "execution_count": 79,
   "metadata": {},
   "outputs": [],
   "source": [
    "p = predict(gradBFGS,X)"
   ]
  },
  {
   "cell_type": "code",
   "execution_count": 80,
   "metadata": {},
   "outputs": [
    {
     "name": "stdout",
     "output_type": "stream",
     "text": [
      "Training Accuracy of the classifier: 89.0%\n"
     ]
    }
   ],
   "source": [
    "print('Training Accuracy of the classifier: {0}%'.format(np.sum(p==y) / p.size * 100))\n"
   ]
  },
  {
   "cell_type": "markdown",
   "metadata": {},
   "source": [
    "# 4) Regularized Logistic regression"
   ]
  },
  {
   "cell_type": "code",
   "execution_count": 87,
   "metadata": {},
   "outputs": [],
   "source": [
    "data = np.loadtxt('ex2data2.txt', delimiter=',')\n",
    "X,y = data[:,:2], data[:,2]"
   ]
  },
  {
   "cell_type": "code",
   "execution_count": 88,
   "metadata": {},
   "outputs": [
    {
     "data": {
      "text/plain": [
       "(118, 2)"
      ]
     },
     "execution_count": 88,
     "metadata": {},
     "output_type": "execute_result"
    }
   ],
   "source": [
    "X.shape"
   ]
  },
  {
   "cell_type": "code",
   "execution_count": 89,
   "metadata": {},
   "outputs": [
    {
     "data": {
      "text/plain": [
       "(118,)"
      ]
     },
     "execution_count": 89,
     "metadata": {},
     "output_type": "execute_result"
    }
   ],
   "source": [
    "y.shape"
   ]
  },
  {
   "cell_type": "code",
   "execution_count": 90,
   "metadata": {},
   "outputs": [],
   "source": [
    "x1,x2 = X[:,0], X[:,1]\n"
   ]
  },
  {
   "cell_type": "code",
   "execution_count": 91,
   "metadata": {},
   "outputs": [
    {
     "data": {
      "image/png": "[encoded data removed]",
      "text/plain": [
       "<Figure size 432x288 with 1 Axes>"
      ]
     },
     "metadata": {
      "needs_background": "light"
     },
     "output_type": "display_data"
    }
   ],
   "source": [
    "Plotdata(X,y,'Microchip Test 1', 'Microchip Test 2', 'Accepted', 'Rejected')"
   ]
  },
  {
   "cell_type": "markdown",
   "metadata": {},
   "source": [
    "## 4.1) Feature mapping\n",
    "Because the decision boundary is non-linear we would like to add polynomial features. We can do this by using PolynomialFeatures from scikitlearn preprocessing "
   ]
  },
  {
   "cell_type": "code",
   "execution_count": 93,
   "metadata": {},
   "outputs": [
    {
     "data": {
      "text/plain": [
       "(118, 28)"
      ]
     },
     "execution_count": 93,
     "metadata": {},
     "output_type": "execute_result"
    }
   ],
   "source": [
    "from sklearn.preprocessing import PolynomialFeatures\n",
    "\n",
    "poly = PolynomialFeatures(6)\n",
    "\n",
    "X2 = poly.fit_transform(X)\n",
    "X2.shape"
   ]
  },
  {
   "cell_type": "markdown",
   "metadata": {},
   "source": [
    "## 4.2) Writing cost and gradient descent functions for regularized logistic regression"
   ]
  },
  {
   "cell_type": "code",
   "execution_count": 127,
   "metadata": {},
   "outputs": [],
   "source": [
    "def costfunctionreg(theta, X, y,lam):\n",
    "    \n",
    "    m = len(y)\n",
    "    \n",
    "    hThetaX = sigmoid(np.dot(X,theta))\n",
    "    \n",
    "    J = -(np.dot(y, np.log(hThetaX)) + np.dot((1-y), np.log(1-hThetaX)) + (lam * np.sum(np.square(theta[1:]) / 2)))/m\n",
    "    return J\n",
    "    #regular cost function\n",
    "    #J = (-1/m) * [ (np.dot(y,np.log(hThetaX)) + np.dot((1-y),np.log(1-hThetaX))) + ( lam * np.sum(np.square[theta]) / 2) ]"
   ]
  },
  {
   "cell_type": "code",
   "execution_count": 111,
   "metadata": {},
   "outputs": [],
   "source": [
    "def gradientdescentR(theta, X, y, lam):\n",
    "    \n",
    "    hThetaX = sigmoid(np.dot(X, theta))\n",
    "    m = len(y)\n",
    "    \n",
    "    new_Theta = np.insert(theta[1:],0,0)\n",
    "    \n",
    "    gradient = (np.dot(X.T, hThetaX-y) + lam*new_Theta)/m\n",
    "    return gradient"
   ]
  },
  {
   "cell_type": "code",
   "execution_count": 119,
   "metadata": {},
   "outputs": [
    {
     "data": {
      "text/plain": [
       "(28,)"
      ]
     },
     "execution_count": 119,
     "metadata": {},
     "output_type": "execute_result"
    }
   ],
   "source": [
    "#initialize theta\n",
    "initial_theta = np.zeros(X2.shape[1])\n",
    "initial_theta.shape"
   ]
  },
  {
   "cell_type": "code",
   "execution_count": 134,
   "metadata": {},
   "outputs": [
    {
     "name": "stdout",
     "output_type": "stream",
     "text": [
      "Cost : 0.693\n",
      "Gradient :[8.47457627e-03 1.87880932e-02 7.77711864e-05 5.03446395e-02\n",
      " 1.15013308e-02 3.76648474e-02 1.83559872e-02 7.32393391e-03\n",
      " 8.19244468e-03 2.34764889e-02 3.93486234e-02 2.23923907e-03\n",
      " 1.28600503e-02 3.09593720e-03 3.93028171e-02 1.99707467e-02\n",
      " 4.32983232e-03 3.38643902e-03 5.83822078e-03 4.47629067e-03\n",
      " 3.10079849e-02 3.10312442e-02 1.09740238e-03 6.31570797e-03\n",
      " 4.08503006e-04 7.26504316e-03 1.37646175e-03 3.87936363e-02]\n"
     ]
    }
   ],
   "source": [
    "#call the functions\n",
    "J = costfunctionreg(initial_theta, X2, y, 1)\n",
    "grad = gradientdescentR(initial_theta, X2, y, 1)\n",
    "\n",
    "print(\"Cost : %0.3f\"%J)\n",
    "print(\"Gradient :{0}\".format(grad))"
   ]
  },
  {
   "cell_type": "markdown",
   "metadata": {},
   "source": [
    "## 4.3) Using bfgs to find optimal theta parameters"
   ]
  },
  {
   "cell_type": "code",
   "execution_count": 139,
   "metadata": {},
   "outputs": [
    {
     "name": "stdout",
     "output_type": "stream",
     "text": [
      "Warning: Desired error not necessarily achieved due to precision loss.\n",
      "         Current function value: 0.390922\n",
      "         Iterations: 19\n",
      "         Function evaluations: 122\n",
      "         Gradient evaluations: 110\n"
     ]
    }
   ],
   "source": [
    "result = minimize(costfunctionreg, initial_theta, args = (X2, y,1), jac = gradientdescentR, method = 'BFGS', options ={'maxiter':400, 'disp':True} )"
   ]
  },
  {
   "cell_type": "code",
   "execution_count": 140,
   "metadata": {},
   "outputs": [
    {
     "name": "stdout",
     "output_type": "stream",
     "text": [
      "[ 1.26787151  0.63371734  1.18338996 -2.02409378 -0.93685564 -1.30890117\n",
      "  0.10793144 -0.38646139 -0.39189343 -0.21181685 -1.51332973 -0.11429772\n",
      " -0.60469456 -0.29719764 -1.2321628  -0.27583993 -0.23549064 -0.07496995\n",
      " -0.27629439 -0.31351069 -0.57980369 -1.11349606 -0.01745556 -0.2943816\n",
      " -0.01374317 -0.32547053 -0.16181337 -1.06515635]\n"
     ]
    }
   ],
   "source": [
    "print(result['x'])"
   ]
  },
  {
   "cell_type": "markdown",
   "metadata": {},
   "source": [
    "## 4.4) Plotting decision boundary"
   ]
  },
  {
   "cell_type": "code",
   "execution_count": 165,
   "metadata": {},
   "outputs": [],
   "source": [
    "def plotdecisionboundary(X, y, title):\n",
    "    Plotdata(X[:,1:3], y, 'Microchip 1', 'Microchip 2','Accepted','Rejected')\n",
    "    \n",
    "    #defining the data to use in the meshgrid calculations\n",
    "    x_min, x_max = X[:,1].min()-1, X[:,1].max()+1\n",
    "    y_min, y_max = X[:,2].min()-1, X[:,2].max()+1\n",
    "    \n",
    "    xx,yy = np.meshgrid(np.arange(x_min, x_max, .02), np.arange(y_min, y_max, .02))\n",
    "    \n",
    "    #create a matrix from this meshgrid\n",
    "    mesh_X = np.c_[xx.ravel(),yy.ravel()]\n",
    "    \n",
    "    #create polynomial of this new matrix\n",
    "    polymesh_X = poly.fit_transform(mesh_X)\n",
    "    \n",
    "    #find Z\n",
    "    z = np.dot(polymesh_X,result['x'])\n",
    "    z_out = sigmoid(z)\n",
    "    \n",
    "    z_out = z.reshape(xx.shape)\n",
    "    \n",
    "    #plot contour \n",
    "    plt.contour(xx,yy, z_out, [0.5])\n",
    "    "
   ]
  },
  {
   "cell_type": "code",
   "execution_count": 166,
   "metadata": {},
   "outputs": [
    {
     "data": {
      "image/png": "[encoded data removed]",
      "text/plain": [
       "<Figure size 432x288 with 1 Axes>"
      ]
     },
     "metadata": {
      "needs_background": "light"
     },
     "output_type": "display_data"
    }
   ],
   "source": [
    "plotdecisionboundary(X2,y,'blah')"
   ]
  },
  {
   "cell_type": "code",
   "execution_count": null,
   "metadata": {},
   "outputs": [],
   "source": []
  }
 ],
 "metadata": {
  "kernelspec": {
   "display_name": "Python 3",
   "language": "python",
   "name": "python3"
  },
  "language_info": {
   "codemirror_mode": {
    "name": "ipython",
    "version": 3
   },
   "file_extension": ".py",
   "mimetype": "text/x-python",
   "name": "python",
   "nbconvert_exporter": "python",
   "pygments_lexer": "ipython3",
   "version": "3.7.0"
  }
 },
 "nbformat": 4,
 "nbformat_minor": 2
}
